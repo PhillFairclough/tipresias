{
 "cells": [
  {
   "cell_type": "code",
   "execution_count": 60,
   "metadata": {},
   "outputs": [],
   "source": [
    "import os\n",
    "import sys\n",
    "\n",
    "import pandas as pd\n",
    "import numpy as np\n",
    "from scipy import stats\n",
    "from sklearn.model_selection import RandomizedSearchCV\n",
    "from sklearn.base import BaseEstimator, RegressorMixin\n",
    "from sklearn.utils.metaestimators import _BaseComposition\n",
    "from sklearn.preprocessing import StandardScaler\n",
    "from sklearn.pipeline import make_pipeline\n",
    "from sklearn.model_selection import train_test_split\n",
    "from sklearn.linear_model import Ridge, Lasso\n",
    "from sklearn.ensemble import GradientBoostingRegressor, RandomForestRegressor\n",
    "from sklearn.svm import LinearSVR\n",
    "from sklearn.ensemble import BaggingRegressor\n",
    "from xgboost import XGBRegressor\n",
    "\n",
    "PROJECT_PATH = os.path.abspath(os.path.join(os.getcwd(), '../'))\n",
    "\n",
    "if PROJECT_PATH not in sys.path:\n",
    "    sys.path.append(PROJECT_PATH)\n",
    "    \n",
    "from server.ml_models.all_model import AllModel, AllModelData\n",
    "from server.ml_models.sklearn import AveragingRegressor\n",
    "from src.model.metrics import measure_estimators, yearly_performance_scores\n",
    "from src.model.charts import graph_cv_model_performance, graph_yearly_model_performance\n",
    "\n",
    "np.random.seed(42)\n",
    "\n",
    "n_iter = 5\n",
    "\n",
    "\n",
    "class StackingRegressor(_BaseComposition, RegressorMixin):\n",
    "    def __init__(self, estimators, meta_estimator):\n",
    "        self.estimators = estimators\n",
    "        self.meta_estimator = meta_estimator\n",
    "\n",
    "    def fit(self, X, y):\n",
    "        predictions = {}\n",
    "\n",
    "        for idx, (_, estimator) in enumerate(self.estimators):\n",
    "            estimator.fit(X, y)\n",
    "            predictions[idx] = estimator.predict(X)\n",
    "\n",
    "        X_all = pd.DataFrame(predictions)\n",
    "        self.meta_estimator.fit(X_all, y)\n",
    "            \n",
    "        return self\n",
    "            \n",
    "    def predict(self, X):\n",
    "        predictions = {str(idx): estimator.predict(X) for idx, (_, estimator) in enumerate(self.estimators)}\n",
    "\n",
    "        X_all = pd.DataFrame(predictions)\n",
    "\n",
    "        return self.meta_estimator.predict(X_all)\n",
    "    \n",
    "    # The params Dict is way too complicated to try typing it\n",
    "    def get_params(self, deep=True):\n",
    "        return super()._get_params(\"estimators\", deep=deep)\n",
    "\n",
    "    def set_params(self, **params):\n",
    "        super()._set_params(\"estimators\", **params)\n",
    "\n",
    "        return self"
   ]
  },
  {
   "cell_type": "markdown",
   "metadata": {},
   "source": [
    "## Compare averaging, stacking, and bagging"
   ]
  },
  {
   "cell_type": "code",
   "execution_count": 62,
   "metadata": {
    "scrolled": true
   },
   "outputs": [
    {
     "name": "stderr",
     "output_type": "stream",
     "text": [
      "/usr/local/lib/python3.6/site-packages/rpy2/rinterface/__init__.py:146: RRuntimeWarning: Returning data from 1965-01-01 to 2016-12-31\n",
      "\n",
      "  warnings.warn(x, RRuntimeWarning)\n",
      "/usr/local/lib/python3.6/site-packages/rpy2/rinterface/__init__.py:146: RRuntimeWarning: Finished getting afltables data\n",
      "\n",
      "  warnings.warn(x, RRuntimeWarning)\n",
      "/usr/local/lib/python3.6/site-packages/rpy2/robjects/pandas2ri.py:191: FutureWarning: from_items is deprecated. Please use DataFrame.from_dict(dict(items), ...) instead. DataFrame.from_dict(OrderedDict(items)) may be used to preserve the key order.\n",
      "  res = PandasDataFrame.from_items(items)\n"
     ]
    }
   ],
   "source": [
    "# Take top-performing models from all data notebook (6.2-all-data-nn)\n",
    "\n",
    "ESTIMATORS = [\n",
    "    ('ridge', Ridge),\n",
    "    ('gradientboostingregressor', GradientBoostingRegressor),\n",
    "    ('linearsvr', LinearSVR),\n",
    "    ('xgbregressor', XGBRegressor),\n",
    "]\n",
    "\n",
    "models = []\n",
    "data = AllModelData(train_years=(None, 2015), test_years=(2016, 2016))\n",
    "features, labels = data.train_data()\n",
    "X_train, X_test, y_train, y_test = train_test_split(features, labels)\n",
    "\n",
    "for name, estimator in ESTIMATORS:\n",
    "    model = AllModel(pipeline=make_pipeline(StandardScaler(), estimator()), name=name)\n",
    "    models.append((name, model))\n",
    "\n",
    "all_model = AllModel()\n",
    "bag_model = BaggingRegressor(base_estimator=AllModel())\n",
    "avg_model = AveragingRegressor(models)\n",
    "stack_model = StackingRegressor(models, make_pipeline(StandardScaler(), XGBRegressor()))"
   ]
  },
  {
   "cell_type": "markdown",
   "metadata": {},
   "source": [
    "### All data with XGB"
   ]
  },
  {
   "cell_type": "code",
   "execution_count": 27,
   "metadata": {},
   "outputs": [],
   "source": [
    "n_iter = 5\n",
    "\n",
    "all_params = {\n",
    "    'pipeline__xgbregressor__booster': ['gbtree', 'gblinear', 'dart'],\n",
    "    'pipeline__xgbregressor__colsample_bylevel': stats.uniform(0.8, 0.2),\n",
    "    'pipeline__xgbregressor__colsample_bytree': stats.uniform(0.8, 0.2),\n",
    "    'pipeline__xgbregressor__learning_rate': stats.uniform(0.075, 0.05),\n",
    "    'pipeline__xgbregressor__max_depth': stats.randint(2, 10),\n",
    "    'pipeline__xgbregressor__n_estimators': stats.randint(75, 150),\n",
    "    'pipeline__xgbregressor__reg_alpha': stats.uniform(0.0, 0.2),\n",
    "    'pipeline__xgbregressor__reg_lambda': stats.uniform(0.75, 0.5),\n",
    "    'pipeline__xgbregressor__subsample': stats.uniform(0.8, 0.2),\n",
    "}\n",
    "\n",
    "all_cv = RandomizedSearchCV(all_model, all_params, scoring='neg_mean_absolute_error', n_jobs=-1, cv=5, n_iter=n_iter)"
   ]
  },
  {
   "cell_type": "code",
   "execution_count": 28,
   "metadata": {},
   "outputs": [
    {
     "data": {
      "text/plain": [
       "RandomizedSearchCV(cv=5, error_score='raise-deprecating',\n",
       "          estimator=AllModel(name='AllModel',\n",
       "     pipeline=Pipeline(memory=None,\n",
       "     steps=[('standardscaler', StandardScaler(copy=True, with_mean=True, with_std=True)), ('xgbregressor', XGBRegressor(base_score=0.5, booster='gbtree', colsample_bylevel=1,\n",
       "       colsample_bytree=1, gamma=0, learning_rate=0.1, max_delta_step=0,\n",
       "       max_depth=3, m...       reg_alpha=0, reg_lambda=1, scale_pos_weight=1, seed=None,\n",
       "       silent=True, subsample=1))])),\n",
       "          fit_params=None, iid='warn', n_iter=5, n_jobs=-1,\n",
       "          param_distributions={'pipeline__xgbregressor__booster': ['gbtree', 'gblinear', 'dart'], 'pipeline__xgbregressor__colsample_bylevel': <scipy.stats._distn_infrastructure.rv_frozen object at 0x7f4d4abc4b70>, 'pipeline__xgbregressor__colsample_bytree': <scipy.stats._distn_infrastructure.rv_frozen object...e__xgbregressor__subsample': <scipy.stats._distn_infrastructure.rv_frozen object at 0x7f4d426464e0>},\n",
       "          pre_dispatch='2*n_jobs', random_state=None, refit=True,\n",
       "          return_train_score='warn', scoring='neg_mean_absolute_error',\n",
       "          verbose=0)"
      ]
     },
     "execution_count": 28,
     "metadata": {},
     "output_type": "execute_result"
    }
   ],
   "source": [
    "all_cv.fit(*data.train_data())"
   ]
  },
  {
   "cell_type": "code",
   "execution_count": 29,
   "metadata": {},
   "outputs": [
    {
     "data": {
      "text/plain": [
       "(-26.639591417298575,\n",
       " {'pipeline__xgbregressor__booster': 'dart',\n",
       "  'pipeline__xgbregressor__colsample_bylevel': 0.9491853641362369,\n",
       "  'pipeline__xgbregressor__colsample_bytree': 0.8147312877395928,\n",
       "  'pipeline__xgbregressor__learning_rate': 0.10448826482204984,\n",
       "  'pipeline__xgbregressor__max_depth': 4,\n",
       "  'pipeline__xgbregressor__n_estimators': 94,\n",
       "  'pipeline__xgbregressor__reg_alpha': 0.11313172406665915,\n",
       "  'pipeline__xgbregressor__reg_lambda': 0.7558974366822621,\n",
       "  'pipeline__xgbregressor__subsample': 0.8422239778965759})"
      ]
     },
     "execution_count": 29,
     "metadata": {},
     "output_type": "execute_result"
    }
   ],
   "source": [
    "all_cv.best_score_, all_cv.best_params_"
   ]
  },
  {
   "cell_type": "markdown",
   "metadata": {},
   "source": [
    "### Bagging with XGB"
   ]
  },
  {
   "cell_type": "code",
   "execution_count": 79,
   "metadata": {},
   "outputs": [],
   "source": [
    "bag_params = {\n",
    "    'n_estimators': stats.randint(5, 15),\n",
    "    'base_estimator__pipeline__xgbregressor__booster': ['gbtree', 'gblinear', 'dart'],\n",
    "    'base_estimator__pipeline__xgbregressor__colsample_bylevel': stats.uniform(0.8, 0.2),\n",
    "    'base_estimator__pipeline__xgbregressor__colsample_bytree': stats.uniform(0.8, 0.2),\n",
    "    'base_estimator__pipeline__xgbregressor__learning_rate': stats.uniform(0.075, 0.05),\n",
    "    'base_estimator__pipeline__xgbregressor__max_depth': stats.randint(2, 10),\n",
    "    'base_estimator__pipeline__xgbregressor__n_estimators': stats.randint(75, 150),\n",
    "    'base_estimator__pipeline__xgbregressor__reg_alpha': stats.uniform(0.0, 0.2),\n",
    "    'base_estimator__pipeline__xgbregressor__reg_lambda': stats.uniform(0.75, 0.5),\n",
    "    'base_estimator__pipeline__xgbregressor__subsample': stats.uniform(0.8, 0.2),\n",
    "}\n",
    "\n",
    "bag_cv = RandomizedSearchCV(bag_model, bag_params, scoring='neg_mean_absolute_error', n_jobs=-1, cv=5, n_iter=n_iter)"
   ]
  },
  {
   "cell_type": "code",
   "execution_count": 80,
   "metadata": {},
   "outputs": [
    {
     "name": "stderr",
     "output_type": "stream",
     "text": [
      "/usr/local/lib/python3.6/site-packages/sklearn/externals/joblib/externals/loky/process_executor.py:706: UserWarning: A worker stopped while some jobs were given to the executor. This can be caused by a too short worker timeout or by a memory leak.\n",
      "  \"timeout or by a memory leak.\", UserWarning\n",
      "/usr/local/lib/python3.6/site-packages/sklearn/externals/joblib/externals/loky/process_executor.py:706: UserWarning: A worker stopped while some jobs were given to the executor. This can be caused by a too short worker timeout or by a memory leak.\n",
      "  \"timeout or by a memory leak.\", UserWarning\n",
      "/usr/local/lib/python3.6/site-packages/sklearn/externals/joblib/externals/loky/process_executor.py:706: UserWarning: A worker stopped while some jobs were given to the executor. This can be caused by a too short worker timeout or by a memory leak.\n",
      "  \"timeout or by a memory leak.\", UserWarning\n"
     ]
    },
    {
     "data": {
      "text/plain": [
       "RandomizedSearchCV(cv=5, error_score='raise-deprecating',\n",
       "          estimator=BaggingRegressor(base_estimator=AllModel(name='AllModel',\n",
       "     pipeline=Pipeline(memory=None,\n",
       "     steps=[('standardscaler', StandardScaler(copy=True, with_mean=True, with_std=True)), ('xgbregressor', XGBRegressor(base_score=0.5, booster='gbtree', colsample_bylevel=1,\n",
       "       colsample_bytr...stimators=10, n_jobs=None, oob_score=False,\n",
       "         random_state=None, verbose=0, warm_start=False),\n",
       "          fit_params=None, iid='warn', n_iter=5, n_jobs=-1,\n",
       "          param_distributions={'n_estimators': <scipy.stats._distn_infrastructure.rv_frozen object at 0x7f3b74ef15c0>, 'base_estimator__pipeline__xgbregressor__booster': ['gbtree', 'gblinear', 'dart'], 'base_estimator__pipeline__xgbregressor__colsample_bylevel': <scipy.stats._distn_infrastructure.rv_frozen ob...e__xgbregressor__subsample': <scipy.stats._distn_infrastructure.rv_frozen object at 0x7f3b74ef1dd8>},\n",
       "          pre_dispatch='2*n_jobs', random_state=None, refit=True,\n",
       "          return_train_score='warn', scoring='neg_mean_absolute_error',\n",
       "          verbose=0)"
      ]
     },
     "execution_count": 80,
     "metadata": {},
     "output_type": "execute_result"
    }
   ],
   "source": [
    "bag_cv.fit(*data.train_data())"
   ]
  },
  {
   "cell_type": "code",
   "execution_count": 81,
   "metadata": {},
   "outputs": [
    {
     "data": {
      "text/plain": [
       "(-26.548679351174687,\n",
       " {'base_estimator__pipeline__xgbregressor__booster': 'dart',\n",
       "  'base_estimator__pipeline__xgbregressor__colsample_bylevel': 0.932410481813671,\n",
       "  'base_estimator__pipeline__xgbregressor__colsample_bytree': 0.8477673728891532,\n",
       "  'base_estimator__pipeline__xgbregressor__learning_rate': 0.12003700927898357,\n",
       "  'base_estimator__pipeline__xgbregressor__max_depth': 4,\n",
       "  'base_estimator__pipeline__xgbregressor__n_estimators': 90,\n",
       "  'base_estimator__pipeline__xgbregressor__reg_alpha': 0.025859007817833925,\n",
       "  'base_estimator__pipeline__xgbregressor__reg_lambda': 0.9186496206570707,\n",
       "  'base_estimator__pipeline__xgbregressor__subsample': 0.9130436248456849,\n",
       "  'n_estimators': 10})"
      ]
     },
     "execution_count": 81,
     "metadata": {},
     "output_type": "execute_result"
    }
   ],
   "source": [
    "bag_cv.best_score_, bag_cv.best_params_"
   ]
  },
  {
   "cell_type": "markdown",
   "metadata": {},
   "source": [
    "### Stacked with XGB"
   ]
  },
  {
   "cell_type": "code",
   "execution_count": 64,
   "metadata": {},
   "outputs": [],
   "source": [
    "stack_params = {\n",
    "    'ridge__pipeline__ridge__alpha': stats.uniform(0.75, 0.5),\n",
    "    'ridge__pipeline__ridge__solver': ['auto', 'svd', 'cholesky', 'lsqr', 'sparse_cg', 'sag', 'saga'],\n",
    "    'gradientboostingregressor__pipeline__gradientboostingregressor__alpha': stats.uniform(0.7, 0.3),\n",
    "    'gradientboostingregressor__pipeline__gradientboostingregressor__learning_rate': stats.uniform(0.075, 0.05),\n",
    "    'gradientboostingregressor__pipeline__gradientboostingregressor__loss': ['ls', 'lad', 'huber', 'quantile'],\n",
    "    'gradientboostingregressor__pipeline__gradientboostingregressor__max_depth': stats.randint(2, 10),\n",
    "    'gradientboostingregressor__pipeline__gradientboostingregressor__max_features': stats.uniform(0.8, 0.2),\n",
    "    'gradientboostingregressor__pipeline__gradientboostingregressor__max_leaf_nodes': [None, 2, 4, 6, 8, 10],\n",
    "    'gradientboostingregressor__pipeline__gradientboostingregressor__min_samples_leaf': stats.randint(1, 5),\n",
    "    'gradientboostingregressor__pipeline__gradientboostingregressor__min_samples_split': stats.randint(2, 6),\n",
    "    'gradientboostingregressor__pipeline__gradientboostingregressor__n_estimators': stats.randint(75, 150),\n",
    "    'gradientboostingregressor__pipeline__gradientboostingregressor__subsample': stats.uniform(0.8, 0.2),\n",
    "    'linearsvr__pipeline__linearsvr__C': stats.uniform(0.75, 0.5),\n",
    "    'linearsvr__pipeline__linearsvr__loss': ['epsilon_insensitive', 'squared_epsilon_insensitive'],\n",
    "    'xgbregressor__pipeline__xgbregressor__booster': ['gbtree', 'gblinear', 'dart'],\n",
    "    'xgbregressor__pipeline__xgbregressor__colsample_bylevel': stats.uniform(0.8, 0.2),\n",
    "    'xgbregressor__pipeline__xgbregressor__colsample_bytree': stats.uniform(0.8, 0.2),\n",
    "    'xgbregressor__pipeline__xgbregressor__learning_rate': stats.uniform(0.075, 0.05),\n",
    "    'xgbregressor__pipeline__xgbregressor__max_depth': stats.randint(2, 10),\n",
    "    'xgbregressor__pipeline__xgbregressor__n_estimators': stats.randint(75, 150),\n",
    "    'xgbregressor__pipeline__xgbregressor__reg_alpha': stats.uniform(0.0, 0.2),\n",
    "    'xgbregressor__pipeline__xgbregressor__reg_lambda': stats.uniform(0.75, 0.5),\n",
    "    'xgbregressor__pipeline__xgbregressor__subsample': stats.uniform(0.8, 0.2),\n",
    "}\n",
    "\n",
    "stack_cv = RandomizedSearchCV(stack_model, stack_params, scoring='neg_mean_absolute_error', n_jobs=-1,\n",
    "                              cv=5, n_iter=n_iter)"
   ]
  },
  {
   "cell_type": "code",
   "execution_count": 65,
   "metadata": {
    "scrolled": true
   },
   "outputs": [
    {
     "name": "stderr",
     "output_type": "stream",
     "text": [
      "/usr/local/lib/python3.6/site-packages/sklearn/svm/base.py:922: ConvergenceWarning: Liblinear failed to converge, increase the number of iterations.\n",
      "  \"the number of iterations.\", ConvergenceWarning)\n",
      "/usr/local/lib/python3.6/site-packages/sklearn/preprocessing/data.py:625: DataConversionWarning: Data with input dtype float32, float64 were all converted to float64 by StandardScaler.\n",
      "  return self.partial_fit(X, y)\n",
      "/usr/local/lib/python3.6/site-packages/sklearn/base.py:465: DataConversionWarning: Data with input dtype float32, float64 were all converted to float64 by StandardScaler.\n",
      "  return self.fit(X, y, **fit_params).transform(X)\n"
     ]
    },
    {
     "data": {
      "text/plain": [
       "RandomizedSearchCV(cv=5, error_score='raise-deprecating',\n",
       "          estimator=StackingRegressor(estimators=[('ridge', AllModel(name='ridge',\n",
       "     pipeline=Pipeline(memory=None,\n",
       "     steps=[('standardscaler', StandardScaler(copy=True, with_mean=True, with_std=True)), ('ridge', Ridge(alpha=1.0, copy_X=True, fit_intercept=True, max_iter=None,\n",
       "   normalize=False, random...      reg_alpha=0, reg_lambda=1, scale_pos_weight=1, seed=None,\n",
       "       silent=True, subsample=1))])),\n",
       "          fit_params=None, iid='warn', n_iter=5, n_jobs=-1,\n",
       "          param_distributions={'ridge__pipeline__ridge__alpha': <scipy.stats._distn_infrastructure.rv_frozen object at 0x7f3b6bf5edd8>, 'ridge__pipeline__ridge__solver': ['auto', 'svd', 'cholesky', 'lsqr', 'sparse_cg', 'sag', 'saga'], 'gradientboostingregressor__pipeline__gradientboostingregressor__alpha': <s...e__xgbregressor__subsample': <scipy.stats._distn_infrastructure.rv_frozen object at 0x7f3b74816c50>},\n",
       "          pre_dispatch='2*n_jobs', random_state=None, refit=True,\n",
       "          return_train_score='warn', scoring='neg_mean_absolute_error',\n",
       "          verbose=0)"
      ]
     },
     "execution_count": 65,
     "metadata": {},
     "output_type": "execute_result"
    }
   ],
   "source": [
    "stack_cv.fit(*data.train_data())"
   ]
  },
  {
   "cell_type": "code",
   "execution_count": 66,
   "metadata": {},
   "outputs": [
    {
     "data": {
      "text/plain": [
       "(-26.854241350190442,\n",
       " {'gradientboostingregressor__pipeline__gradientboostingregressor__alpha': 0.9863384977407668,\n",
       "  'gradientboostingregressor__pipeline__gradientboostingregressor__learning_rate': 0.09048008240664918,\n",
       "  'gradientboostingregressor__pipeline__gradientboostingregressor__loss': 'lad',\n",
       "  'gradientboostingregressor__pipeline__gradientboostingregressor__max_depth': 4,\n",
       "  'gradientboostingregressor__pipeline__gradientboostingregressor__max_features': 0.8972541821696156,\n",
       "  'gradientboostingregressor__pipeline__gradientboostingregressor__max_leaf_nodes': 4,\n",
       "  'gradientboostingregressor__pipeline__gradientboostingregressor__min_samples_leaf': 1,\n",
       "  'gradientboostingregressor__pipeline__gradientboostingregressor__min_samples_split': 3,\n",
       "  'gradientboostingregressor__pipeline__gradientboostingregressor__n_estimators': 134,\n",
       "  'gradientboostingregressor__pipeline__gradientboostingregressor__subsample': 0.9476850202485767,\n",
       "  'linearsvr__pipeline__linearsvr__C': 1.2241922131363083,\n",
       "  'linearsvr__pipeline__linearsvr__loss': 'squared_epsilon_insensitive',\n",
       "  'ridge__pipeline__ridge__alpha': 0.8831139335049836,\n",
       "  'ridge__pipeline__ridge__solver': 'cholesky',\n",
       "  'xgbregressor__pipeline__xgbregressor__booster': 'dart',\n",
       "  'xgbregressor__pipeline__xgbregressor__colsample_bylevel': 0.8658484067049261,\n",
       "  'xgbregressor__pipeline__xgbregressor__colsample_bytree': 0.8960577639581081,\n",
       "  'xgbregressor__pipeline__xgbregressor__learning_rate': 0.11717527693963918,\n",
       "  'xgbregressor__pipeline__xgbregressor__max_depth': 3,\n",
       "  'xgbregressor__pipeline__xgbregressor__n_estimators': 78,\n",
       "  'xgbregressor__pipeline__xgbregressor__reg_alpha': 0.032868120245653554,\n",
       "  'xgbregressor__pipeline__xgbregressor__reg_lambda': 0.7602612558562576,\n",
       "  'xgbregressor__pipeline__xgbregressor__subsample': 0.9566528397579552})"
      ]
     },
     "execution_count": 66,
     "metadata": {},
     "output_type": "execute_result"
    }
   ],
   "source": [
    "stack_cv.best_score_, stack_cv.best_params_"
   ]
  },
  {
   "cell_type": "markdown",
   "metadata": {},
   "source": [
    "### Averaging estimates"
   ]
  },
  {
   "cell_type": "code",
   "execution_count": 75,
   "metadata": {},
   "outputs": [],
   "source": [
    "avg_params = {\n",
    "    'weights': [stats.uniform(0.0, 1.0).rvs(size=4) for _ in range(n_iter)],\n",
    "    'ridge__pipeline__ridge__alpha': stats.uniform(0.75, 0.5),\n",
    "    'ridge__pipeline__ridge__solver': ['auto', 'svd', 'cholesky', 'lsqr', 'sparse_cg', 'sag', 'saga'],\n",
    "    'gradientboostingregressor__pipeline__gradientboostingregressor__alpha': stats.uniform(0.7, 0.3),\n",
    "    'gradientboostingregressor__pipeline__gradientboostingregressor__learning_rate': stats.uniform(0.075, 0.05),\n",
    "    'gradientboostingregressor__pipeline__gradientboostingregressor__loss': ['ls', 'lad', 'huber', 'quantile'],\n",
    "    'gradientboostingregressor__pipeline__gradientboostingregressor__max_depth': stats.randint(2, 10),\n",
    "    'gradientboostingregressor__pipeline__gradientboostingregressor__max_features': stats.uniform(0.8, 0.2),\n",
    "    'gradientboostingregressor__pipeline__gradientboostingregressor__max_leaf_nodes': [None, 2, 4, 6, 8, 10],\n",
    "    'gradientboostingregressor__pipeline__gradientboostingregressor__min_samples_leaf': stats.randint(1, 5),\n",
    "    'gradientboostingregressor__pipeline__gradientboostingregressor__min_samples_split': stats.randint(2, 6),\n",
    "    'gradientboostingregressor__pipeline__gradientboostingregressor__n_estimators': stats.randint(75, 150),\n",
    "    'gradientboostingregressor__pipeline__gradientboostingregressor__subsample': stats.uniform(0.8, 0.2),\n",
    "    'linearsvr__pipeline__linearsvr__C': stats.uniform(0.75, 0.5),\n",
    "    'linearsvr__pipeline__linearsvr__loss': ['epsilon_insensitive', 'squared_epsilon_insensitive'],\n",
    "    'xgbregressor__pipeline__xgbregressor__booster': ['gbtree', 'gblinear', 'dart'],\n",
    "    'xgbregressor__pipeline__xgbregressor__colsample_bylevel': stats.uniform(0.8, 0.2),\n",
    "    'xgbregressor__pipeline__xgbregressor__colsample_bytree': stats.uniform(0.8, 0.2),\n",
    "    'xgbregressor__pipeline__xgbregressor__learning_rate': stats.uniform(0.075, 0.05),\n",
    "    'xgbregressor__pipeline__xgbregressor__max_depth': stats.randint(2, 10),\n",
    "    'xgbregressor__pipeline__xgbregressor__n_estimators': stats.randint(75, 150),\n",
    "    'xgbregressor__pipeline__xgbregressor__reg_alpha': stats.uniform(0.0, 0.2),\n",
    "    'xgbregressor__pipeline__xgbregressor__reg_lambda': stats.uniform(0.75, 0.5),\n",
    "    'xgbregressor__pipeline__xgbregressor__subsample': stats.uniform(0.8, 0.2),\n",
    "}\n",
    "\n",
    "avg_cv = RandomizedSearchCV(avg_model, avg_params, scoring='neg_mean_absolute_error', n_jobs=-1, cv=5, n_iter=n_iter)"
   ]
  },
  {
   "cell_type": "code",
   "execution_count": 76,
   "metadata": {},
   "outputs": [
    {
     "name": "stderr",
     "output_type": "stream",
     "text": [
      "/usr/local/lib/python3.6/site-packages/sklearn/svm/base.py:922: ConvergenceWarning: Liblinear failed to converge, increase the number of iterations.\n",
      "  \"the number of iterations.\", ConvergenceWarning)\n"
     ]
    },
    {
     "data": {
      "text/plain": [
       "RandomizedSearchCV(cv=5, error_score='raise-deprecating',\n",
       "          estimator=AveragingRegressor(estimators=[('ridge', AllModel(name='ridge',\n",
       "     pipeline=Pipeline(memory=None,\n",
       "     steps=[('standardscaler', StandardScaler(copy=True, with_mean=True, with_std=True)), ('ridge', Ridge(alpha=1.0, copy_X=True, fit_intercept=True, max_iter=None,\n",
       "   normalize=False, random_state=None, solver='auto', ...    reg_alpha=0, reg_lambda=1, scale_pos_weight=1, seed=None,\n",
       "       silent=True, subsample=1))])))],\n",
       "          weights=None),\n",
       "          fit_params=None, iid='warn', n_iter=5, n_jobs=-1,\n",
       "          param_distributions={'weights': [array([0.09533, 0.11515, 0.77891, 0.1713 ]), array([0.86772, 0.44668, 0.74245, 0.24462]), array([0.95566, 0.18025, 0.04762, 0.75589]), array([0.94426, 0.02118, 0.64632, 0.38503]), array([0.61832, 0.36988, 0.3187 , 0.95104])], 'ridge__pipeline__ridge__alpha': <scipy.s...e__xgbregressor__subsample': <scipy.stats._distn_infrastructure.rv_frozen object at 0x7f3b77168898>},\n",
       "          pre_dispatch='2*n_jobs', random_state=None, refit=True,\n",
       "          return_train_score='warn', scoring='neg_mean_absolute_error',\n",
       "          verbose=0)"
      ]
     },
     "execution_count": 76,
     "metadata": {},
     "output_type": "execute_result"
    }
   ],
   "source": [
    "avg_cv.fit(*data.train_data())"
   ]
  },
  {
   "cell_type": "code",
   "execution_count": 77,
   "metadata": {},
   "outputs": [
    {
     "data": {
      "text/plain": [
       "(-26.557213833059446,\n",
       " {'gradientboostingregressor__pipeline__gradientboostingregressor__alpha': 0.9963368961519148,\n",
       "  'gradientboostingregressor__pipeline__gradientboostingregressor__learning_rate': 0.10589004751349954,\n",
       "  'gradientboostingregressor__pipeline__gradientboostingregressor__loss': 'ls',\n",
       "  'gradientboostingregressor__pipeline__gradientboostingregressor__max_depth': 8,\n",
       "  'gradientboostingregressor__pipeline__gradientboostingregressor__max_features': 0.8005999403651939,\n",
       "  'gradientboostingregressor__pipeline__gradientboostingregressor__max_leaf_nodes': 10,\n",
       "  'gradientboostingregressor__pipeline__gradientboostingregressor__min_samples_leaf': 3,\n",
       "  'gradientboostingregressor__pipeline__gradientboostingregressor__min_samples_split': 3,\n",
       "  'gradientboostingregressor__pipeline__gradientboostingregressor__n_estimators': 100,\n",
       "  'gradientboostingregressor__pipeline__gradientboostingregressor__subsample': 0.8621556031199317,\n",
       "  'linearsvr__pipeline__linearsvr__C': 0.8104159010209905,\n",
       "  'linearsvr__pipeline__linearsvr__loss': 'squared_epsilon_insensitive',\n",
       "  'ridge__pipeline__ridge__alpha': 0.8365243484522576,\n",
       "  'ridge__pipeline__ridge__solver': 'saga',\n",
       "  'weights': array([0.95565547, 0.18025315, 0.04761536, 0.75588831]),\n",
       "  'xgbregressor__pipeline__xgbregressor__booster': 'dart',\n",
       "  'xgbregressor__pipeline__xgbregressor__colsample_bylevel': 0.9614037576520257,\n",
       "  'xgbregressor__pipeline__xgbregressor__colsample_bytree': 0.854566502957448,\n",
       "  'xgbregressor__pipeline__xgbregressor__learning_rate': 0.09350030266032865,\n",
       "  'xgbregressor__pipeline__xgbregressor__max_depth': 6,\n",
       "  'xgbregressor__pipeline__xgbregressor__n_estimators': 145,\n",
       "  'xgbregressor__pipeline__xgbregressor__reg_alpha': 0.13350160201618155,\n",
       "  'xgbregressor__pipeline__xgbregressor__reg_lambda': 0.8514188579486075,\n",
       "  'xgbregressor__pipeline__xgbregressor__subsample': 0.9196039088829278})"
      ]
     },
     "execution_count": 77,
     "metadata": {},
     "output_type": "execute_result"
    }
   ],
   "source": [
    "avg_cv.best_score_, avg_cv.best_params_"
   ]
  },
  {
   "cell_type": "code",
   "execution_count": 82,
   "metadata": {},
   "outputs": [
    {
     "data": {
      "text/plain": [
       "(-28.119399610209474, -28.654095252250897)"
      ]
     },
     "execution_count": 82,
     "metadata": {},
     "output_type": "execute_result"
    }
   ],
   "source": [
    "bag_cv.score(*data.test_data()), avg_cv.score(*data.test_data())"
   ]
  },
  {
   "cell_type": "markdown",
   "metadata": {},
   "source": [
    "### Bagging XGB is a little better than averaging a few different models\n",
    "I played around with more or less estimators passed to the averaging regressor, but bagging had a better error than all combinations."
   ]
  },
  {
   "cell_type": "code",
   "execution_count": 140,
   "metadata": {
    "scrolled": true
   },
   "outputs": [
    {
     "name": "stderr",
     "output_type": "stream",
     "text": [
      "/usr/local/lib/python3.6/site-packages/sklearn/svm/base.py:922: ConvergenceWarning: Liblinear failed to converge, increase the number of iterations.\n",
      "  \"the number of iterations.\", ConvergenceWarning)\n",
      "/usr/local/lib/python3.6/site-packages/sklearn/svm/base.py:922: ConvergenceWarning: Liblinear failed to converge, increase the number of iterations.\n",
      "  \"the number of iterations.\", ConvergenceWarning)\n",
      "/usr/local/lib/python3.6/site-packages/sklearn/svm/base.py:922: ConvergenceWarning: Liblinear failed to converge, increase the number of iterations.\n",
      "  \"the number of iterations.\", ConvergenceWarning)\n",
      "/usr/local/lib/python3.6/site-packages/sklearn/svm/base.py:922: ConvergenceWarning: Liblinear failed to converge, increase the number of iterations.\n",
      "  \"the number of iterations.\", ConvergenceWarning)\n",
      "/usr/local/lib/python3.6/site-packages/sklearn/svm/base.py:922: ConvergenceWarning: Liblinear failed to converge, increase the number of iterations.\n",
      "  \"the number of iterations.\", ConvergenceWarning)\n",
      "/usr/local/lib/python3.6/site-packages/sklearn/svm/base.py:922: ConvergenceWarning: Liblinear failed to converge, increase the number of iterations.\n",
      "  \"the number of iterations.\", ConvergenceWarning)\n"
     ]
    },
    {
     "data": {
      "text/html": [
       "<div>\n",
       "<style scoped>\n",
       "    .dataframe tbody tr th:only-of-type {\n",
       "        vertical-align: middle;\n",
       "    }\n",
       "\n",
       "    .dataframe tbody tr th {\n",
       "        vertical-align: top;\n",
       "    }\n",
       "\n",
       "    .dataframe thead th {\n",
       "        text-align: right;\n",
       "    }\n",
       "</style>\n",
       "<table border=\"1\" class=\"dataframe\">\n",
       "  <thead>\n",
       "    <tr style=\"text-align: right;\">\n",
       "      <th></th>\n",
       "      <th>accuracy</th>\n",
       "      <th>error</th>\n",
       "      <th>model</th>\n",
       "      <th>year</th>\n",
       "    </tr>\n",
       "  </thead>\n",
       "  <tbody>\n",
       "    <tr>\n",
       "      <th>0</th>\n",
       "      <td>0.770408</td>\n",
       "      <td>29.085249</td>\n",
       "      <td>average</td>\n",
       "      <td>2011</td>\n",
       "    </tr>\n",
       "    <tr>\n",
       "      <th>1</th>\n",
       "      <td>0.750000</td>\n",
       "      <td>29.897104</td>\n",
       "      <td>bag</td>\n",
       "      <td>2011</td>\n",
       "    </tr>\n",
       "    <tr>\n",
       "      <th>2</th>\n",
       "      <td>0.763285</td>\n",
       "      <td>27.708132</td>\n",
       "      <td>average</td>\n",
       "      <td>2012</td>\n",
       "    </tr>\n",
       "    <tr>\n",
       "      <th>3</th>\n",
       "      <td>0.768116</td>\n",
       "      <td>27.757896</td>\n",
       "      <td>bag</td>\n",
       "      <td>2012</td>\n",
       "    </tr>\n",
       "    <tr>\n",
       "      <th>4</th>\n",
       "      <td>0.746377</td>\n",
       "      <td>27.296080</td>\n",
       "      <td>average</td>\n",
       "      <td>2013</td>\n",
       "    </tr>\n",
       "    <tr>\n",
       "      <th>5</th>\n",
       "      <td>0.743961</td>\n",
       "      <td>26.938662</td>\n",
       "      <td>bag</td>\n",
       "      <td>2013</td>\n",
       "    </tr>\n",
       "    <tr>\n",
       "      <th>6</th>\n",
       "      <td>0.731884</td>\n",
       "      <td>29.181485</td>\n",
       "      <td>average</td>\n",
       "      <td>2014</td>\n",
       "    </tr>\n",
       "    <tr>\n",
       "      <th>7</th>\n",
       "      <td>0.731884</td>\n",
       "      <td>28.994267</td>\n",
       "      <td>bag</td>\n",
       "      <td>2014</td>\n",
       "    </tr>\n",
       "    <tr>\n",
       "      <th>8</th>\n",
       "      <td>0.689320</td>\n",
       "      <td>30.313374</td>\n",
       "      <td>average</td>\n",
       "      <td>2015</td>\n",
       "    </tr>\n",
       "    <tr>\n",
       "      <th>9</th>\n",
       "      <td>0.701456</td>\n",
       "      <td>30.255651</td>\n",
       "      <td>bag</td>\n",
       "      <td>2015</td>\n",
       "    </tr>\n",
       "    <tr>\n",
       "      <th>10</th>\n",
       "      <td>0.736715</td>\n",
       "      <td>28.262056</td>\n",
       "      <td>average</td>\n",
       "      <td>2016</td>\n",
       "    </tr>\n",
       "    <tr>\n",
       "      <th>11</th>\n",
       "      <td>0.739130</td>\n",
       "      <td>27.860158</td>\n",
       "      <td>bag</td>\n",
       "      <td>2016</td>\n",
       "    </tr>\n",
       "  </tbody>\n",
       "</table>\n",
       "</div>"
      ],
      "text/plain": [
       "    accuracy      error    model  year\n",
       "0   0.770408  29.085249  average  2011\n",
       "1   0.750000  29.897104      bag  2011\n",
       "2   0.763285  27.708132  average  2012\n",
       "3   0.768116  27.757896      bag  2012\n",
       "4   0.746377  27.296080  average  2013\n",
       "5   0.743961  26.938662      bag  2013\n",
       "6   0.731884  29.181485  average  2014\n",
       "7   0.731884  28.994267      bag  2014\n",
       "8   0.689320  30.313374  average  2015\n",
       "9   0.701456  30.255651      bag  2015\n",
       "10  0.736715  28.262056  average  2016\n",
       "11  0.739130  27.860158      bag  2016"
      ]
     },
     "execution_count": 140,
     "metadata": {},
     "output_type": "execute_result"
    }
   ],
   "source": [
    "avg_model.set_params(**avg_cv.best_params_)\n",
    "bag_model.set_params(**bag_cv.best_params_)\n",
    "data.train_years = (None, 2016)\n",
    "features, labels = data.train_data()\n",
    "\n",
    "YEAR_ESTIMATORS = [\n",
    "    ('average', avg_model, {}),\n",
    "    ('bag', bag_model, {})\n",
    "]\n",
    "\n",
    "year_scores = yearly_performance_scores(YEAR_ESTIMATORS, features, labels)\n",
    "year_scores"
   ]
  },
  {
   "cell_type": "code",
   "execution_count": 141,
   "metadata": {
    "scrolled": false
   },
   "outputs": [
    {
     "data": {
      "image/png": "[encoded data removed]",
      "text/plain": [
       "<Figure size 1080x648 with 1 Axes>"
      ]
     },
     "metadata": {
      "needs_background": "light"
     },
     "output_type": "display_data"
    },
    {
     "data": {
      "image/png": "[encoded data removed]",
      "text/plain": [
       "<Figure size 1080x576 with 1 Axes>"
      ]
     },
     "metadata": {
      "needs_background": "light"
     },
     "output_type": "display_data"
    }
   ],
   "source": [
    "graph_yearly_model_performance(year_scores)"
   ]
  },
  {
   "cell_type": "code",
   "execution_count": 142,
   "metadata": {},
   "outputs": [
    {
     "data": {
      "text/html": [
       "<div>\n",
       "<style scoped>\n",
       "    .dataframe tbody tr th:only-of-type {\n",
       "        vertical-align: middle;\n",
       "    }\n",
       "\n",
       "    .dataframe tbody tr th {\n",
       "        vertical-align: top;\n",
       "    }\n",
       "\n",
       "    .dataframe thead th {\n",
       "        text-align: right;\n",
       "    }\n",
       "</style>\n",
       "<table border=\"1\" class=\"dataframe\">\n",
       "  <thead>\n",
       "    <tr style=\"text-align: right;\">\n",
       "      <th></th>\n",
       "      <th>accuracy</th>\n",
       "      <th>error</th>\n",
       "      <th>year</th>\n",
       "    </tr>\n",
       "    <tr>\n",
       "      <th>model</th>\n",
       "      <th></th>\n",
       "      <th></th>\n",
       "      <th></th>\n",
       "    </tr>\n",
       "  </thead>\n",
       "  <tbody>\n",
       "    <tr>\n",
       "      <th>average</th>\n",
       "      <td>0.739665</td>\n",
       "      <td>28.641063</td>\n",
       "      <td>2013.5</td>\n",
       "    </tr>\n",
       "    <tr>\n",
       "      <th>bag</th>\n",
       "      <td>0.739091</td>\n",
       "      <td>28.617290</td>\n",
       "      <td>2013.5</td>\n",
       "    </tr>\n",
       "  </tbody>\n",
       "</table>\n",
       "</div>"
      ],
      "text/plain": [
       "         accuracy      error    year\n",
       "model                               \n",
       "average  0.739665  28.641063  2013.5\n",
       "bag      0.739091  28.617290  2013.5"
      ]
     },
     "execution_count": 142,
     "metadata": {},
     "output_type": "execute_result"
    }
   ],
   "source": [
    "year_scores.groupby('model').mean()"
   ]
  },
  {
   "cell_type": "markdown",
   "metadata": {},
   "source": [
    "### Bagging is better on a yearly basis as well\n",
    "Bagging has a slightly lower error, but slightly lower accuracy. However, bagging has higher accuracy 3 out of 6 seasons, tieing averaging in a 4th."
   ]
  },
  {
   "cell_type": "code",
   "execution_count": null,
   "metadata": {},
   "outputs": [],
   "source": []
  }
 ],
 "metadata": {
  "kernelspec": {
   "display_name": "Python 3",
   "language": "python",
   "name": "python3"
  },
  "language_info": {
   "codemirror_mode": {
    "name": "ipython",
    "version": 3
   },
   "file_extension": ".py",
   "mimetype": "text/x-python",
   "name": "python",
   "nbconvert_exporter": "python",
   "pygments_lexer": "ipython3",
   "version": "3.6.7"
  }
 },
 "nbformat": 4,
 "nbformat_minor": 2
}
