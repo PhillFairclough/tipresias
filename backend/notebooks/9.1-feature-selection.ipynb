{
 "cells": [
  {
   "cell_type": "code",
   "execution_count": 7,
   "metadata": {},
   "outputs": [],
   "source": [
    "import os\n",
    "import sys\n",
    "\n",
    "import pandas as pd\n",
    "import numpy as np\n",
    "from scipy import stats\n",
    "from sklearn.model_selection import RandomizedSearchCV, cross_val_score\n",
    "from sklearn.pipeline import make_pipeline, make_union\n",
    "from sklearn.compose import ColumnTransformer\n",
    "from sklearn.preprocessing import PolynomialFeatures, OneHotEncoder\n",
    "from sklearn.base import clone\n",
    "from sklearn.decomposition import PCA\n",
    "from mlxtend.feature_selection import ColumnSelector\n",
    "\n",
    "PROJECT_PATH = os.path.abspath(os.path.join(os.getcwd(), '../'))\n",
    "\n",
    "if PROJECT_PATH not in sys.path:\n",
    "    sys.path.append(PROJECT_PATH)\n",
    "    \n",
    "from server.ml_models import EnsembleModel\n",
    "from server.ml_models.all_model import AllModelData\n",
    "from src.model.metrics import measure_estimators, yearly_performance_scores\n",
    "from src.model.charts import graph_cv_model_performance, graph_yearly_model_performance\n",
    "from server.ml_models.data_config import TEAM_NAMES, ROUND_TYPES\n",
    "\n",
    "np.random.seed(42)\n",
    "\n",
    "N_ITER = 5\n",
    "SCORING = 'neg_mean_absolute_error'\n",
    "CV = 5"
   ]
  },
  {
   "cell_type": "code",
   "execution_count": 2,
   "metadata": {},
   "outputs": [
    {
     "name": "stderr",
     "output_type": "stream",
     "text": [
      "/usr/local/lib/python3.6/site-packages/rpy2/rinterface/__init__.py:146: RRuntimeWarning: Returning data from 1965-01-01 to 2016-12-31\n",
      "\n",
      "  warnings.warn(x, RRuntimeWarning)\n",
      "/usr/local/lib/python3.6/site-packages/rpy2/rinterface/__init__.py:146: RRuntimeWarning: Finished getting afltables data\n",
      "\n",
      "  warnings.warn(x, RRuntimeWarning)\n",
      "/usr/local/lib/python3.6/site-packages/rpy2/robjects/pandas2ri.py:191: FutureWarning: from_items is deprecated. Please use DataFrame.from_dict(dict(items), ...) instead. DataFrame.from_dict(OrderedDict(items)) may be used to preserve the key order.\n",
      "  res = PandasDataFrame.from_items(items)\n"
     ]
    }
   ],
   "source": [
    "data = AllModelData(train_years=(None, 2015), test_years=(2016, 2016))"
   ]
  },
  {
   "cell_type": "markdown",
   "metadata": {},
   "source": [
    "### Baseline bagging model with XGB"
   ]
  },
  {
   "cell_type": "code",
   "execution_count": 3,
   "metadata": {
    "scrolled": true
   },
   "outputs": [
    {
     "data": {
      "text/plain": [
       "array([-26.16858251, -25.80469955, -27.1914056 , -26.47905796,\n",
       "       -27.06154325])"
      ]
     },
     "execution_count": 3,
     "metadata": {},
     "output_type": "execute_result"
    }
   ],
   "source": [
    "bag_model = EnsembleModel()\n",
    "bag_score = cross_val_score(bag_model, *data.train_data(), scoring=SCORING, cv=CV, n_jobs=-1)\n",
    "bag_score"
   ]
  },
  {
   "cell_type": "code",
   "execution_count": 4,
   "metadata": {},
   "outputs": [
    {
     "data": {
      "text/plain": [
       "-26.54105777403654"
      ]
     },
     "execution_count": 4,
     "metadata": {},
     "output_type": "execute_result"
    }
   ],
   "source": [
    "bag_score.mean()"
   ]
  },
  {
   "cell_type": "markdown",
   "metadata": {},
   "source": [
    "## Feature selection"
   ]
  },
  {
   "cell_type": "markdown",
   "metadata": {},
   "source": [
    "### Feature selection with correlation to labels"
   ]
  },
  {
   "cell_type": "code",
   "execution_count": 18,
   "metadata": {
    "scrolled": true
   },
   "outputs": [
    {
     "data": {
      "text/plain": [
       "margin                                             1.000000\n",
       "oppo_rolling_last_week_win_rate                    0.327654\n",
       "rolling_last_week_win_rate                         0.327282\n",
       "ladder_position                                    0.253778\n",
       "oppo_win_streak                                    0.217786\n",
       "win_streak                                         0.217642\n",
       "line_odds                                          0.216245\n",
       "oppo_line_odds                                     0.216245\n",
       "at_home                                            0.213125\n",
       "oppo_cum_win_points                                0.171706\n",
       "cum_win_points                                     0.170927\n",
       "oppo_last_week_result                              0.144011\n",
       "last_week_result                                   0.143821\n",
       "win_odds                                           0.126010\n",
       "oppo_win_odds                                      0.125942\n",
       "oppo_last_week_score                               0.108902\n",
       "last_week_score                                    0.108775\n",
       "oppo_last_week_goals                               0.101683\n",
       "last_week_goals                                    0.101553\n",
       "out_of_state                                       0.099081\n",
       "oppo_last_week_behinds                             0.089767\n",
       "last_week_behinds                                  0.089745\n",
       "oppo_travel_distance                               0.088944\n",
       "travel_distance                                    0.088877\n",
       "oppo_last_year_brownlow_votes                      0.074145\n",
       "last_year_brownlow_votes                           0.073976\n",
       "oppo_rolling_pred_win_rate                         0.064167\n",
       "rolling_pred_win_rate                              0.063789\n",
       "rolling_prev_match_goals                           0.046183\n",
       "oppo_rolling_prev_match_goals                      0.046181\n",
       "                                                     ...   \n",
       "rolling_prev_match_contested_marks                 0.015698\n",
       "oppo_rolling_prev_match_handballs                  0.015368\n",
       "rolling_prev_match_handballs                       0.015237\n",
       "oppo_rolling_prev_match_inside_50s                 0.014869\n",
       "rolling_prev_match_inside_50s                      0.014827\n",
       "rolling_prev_match_frees_against                   0.014646\n",
       "oppo_rolling_prev_match_frees_against              0.014581\n",
       "oppo_rolling_prev_match_tackles                    0.012113\n",
       "rolling_prev_match_tackles                         0.011947\n",
       "oppo_rolling_prev_match_uncontested_possessions    0.010389\n",
       "rolling_prev_match_uncontested_possessions         0.010290\n",
       "oppo_rolling_prev_match_contested_possessions      0.010118\n",
       "rolling_prev_match_contested_possessions           0.010054\n",
       "oppo_rolling_prev_match_clearances                 0.009817\n",
       "rolling_prev_match_clearances                      0.009792\n",
       "oppo_rolling_prev_match_one_percenters             0.007878\n",
       "rolling_prev_match_one_percenters                  0.007794\n",
       "cum_percent                                        0.007210\n",
       "oppo_rolling_prev_match_bounces                    0.005084\n",
       "rolling_prev_match_bounces                         0.004995\n",
       "oppo_rolling_prev_match_time_on_ground             0.003968\n",
       "rolling_prev_match_time_on_ground                  0.003865\n",
       "oppo_rolling_prev_match_clangers                   0.002612\n",
       "rolling_prev_match_clangers                        0.002558\n",
       "rolling_prev_match_frees_for                       0.002310\n",
       "oppo_rolling_prev_match_frees_for                  0.002240\n",
       "rolling_prev_match_rebounds                        0.000429\n",
       "oppo_rolling_prev_match_rebounds                   0.000395\n",
       "round_number                                       0.000316\n",
       "year                                               0.000009\n",
       "Name: margin, Length: 73, dtype: float64"
      ]
     },
     "execution_count": 18,
     "metadata": {},
     "output_type": "execute_result"
    }
   ],
   "source": [
    "X_train, y_train = data.train_data()\n",
    "X_train['margin'] = y_train\n",
    "\n",
    "X_train.corr()['margin'].abs().sort_values(ascending=False)"
   ]
  },
  {
   "cell_type": "code",
   "execution_count": 34,
   "metadata": {},
   "outputs": [],
   "source": [
    "from sklearn.base import TransformerMixin, BaseEstimator, clone\n",
    "\n",
    "\n",
    "class CorrelationChooser(TransformerMixin, BaseEstimator):\n",
    "    def __init__(self, response, cols_to_keep=[], threshold=None):\n",
    "        self.response = response\n",
    "        self.threshold = threshold\n",
    "        self.cols_to_keep = cols_to_keep\n",
    "        self._cols_to_keep = self.cols_to_keep\n",
    "\n",
    "    def transform(self, X):\n",
    "        return X[self._cols_to_keep]\n",
    "\n",
    "    def fit(self, X, *_):\n",
    "        df = pd.concat([X, self.response], axis=1).drop(self.cols_to_keep, axis=1)\n",
    "        self._cols_to_keep = df.columns[df.corr()[df.columns[-1]].abs() > self.threshold]\n",
    "        self._cols_to_keep = self.cols_to_keep + [c for c in self._cols_to_keep if c in X.columns]\n",
    "\n",
    "        return self\n",
    "\n",
    "_, y_train = data.train_data()\n",
    "bag_model2 = clone(bag_model)\n",
    "bag_model2.pipeline.steps = [\n",
    "    (\n",
    "        \"correlationchooser\",\n",
    "        CorrelationChooser(\n",
    "            y_train,\n",
    "            threshold=0.1,\n",
    "            cols_to_keep=[\"team\", \"oppo_team\", \"round_type\"],\n",
    "        ),\n",
    "    )\n",
    "] + bag_model2.pipeline.steps\n",
    "\n",
    "\n",
    "bag_params = {\n",
    "    'pipeline__baggingregressor__n_estimators': stats.randint(5, 15),\n",
    "    'pipeline__baggingregressor__base_estimator__booster': ['gbtree', 'gblinear', 'dart'],\n",
    "    'pipeline__baggingregressor__base_estimator__colsample_bylevel': stats.uniform(0.8, 0.2),\n",
    "    'pipeline__baggingregressor__base_estimator__colsample_bytree': stats.uniform(0.8, 0.2),\n",
    "    'pipeline__baggingregressor__base_estimator__learning_rate': stats.uniform(0.075, 0.05),\n",
    "    'pipeline__baggingregressor__base_estimator__max_depth': stats.randint(2, 10),\n",
    "    'pipeline__baggingregressor__base_estimator__n_estimators': stats.randint(75, 150),\n",
    "    'pipeline__baggingregressor__base_estimator__reg_alpha': stats.uniform(0.0, 0.2),\n",
    "    'pipeline__baggingregressor__base_estimator__reg_lambda': stats.uniform(0.75, 0.5),\n",
    "    'pipeline__baggingregressor__base_estimator__subsample': stats.uniform(0.8, 0.2),\n",
    "    'pipeline__correlationchooser__threshold': stats.uniform(0.0, 0.2)\n",
    "}\n",
    "\n",
    "bag_cv = RandomizedSearchCV(bag_model2, bag_params, scoring=SCORING, n_jobs=-1,\n",
    "                            cv=CV, n_iter=N_ITER)"
   ]
  },
  {
   "cell_type": "code",
   "execution_count": 35,
   "metadata": {},
   "outputs": [
    {
     "data": {
      "text/plain": [
       "RandomizedSearchCV(cv=5, error_score='raise-deprecating',\n",
       "          estimator=EnsembleModel(name='EnsembleModel',\n",
       "       pipeline=Pipeline(memory=None,\n",
       "     steps=[('correlationchooser', CorrelationChooser(cols_to_keep=['team', 'oppo_team', 'round_type'],\n",
       "          response=Adelaide          1991  1.0      86\n",
       "                        2.0     -23\n",
       "                        3.0      24\n",
       "                        4.0     -45\n",
       "                        5.0     -65\n",
       "  ...imators=10, n_jobs=None, oob_score=False,\n",
       "         random_state=None, verbose=0, warm_start=False))])),\n",
       "          fit_params=None, iid='warn', n_iter=5, n_jobs=-1,\n",
       "          param_distributions={'pipeline__baggingregressor__n_estimators': <scipy.stats._distn_infrastructure.rv_frozen object at 0x7ff0d164a828>, 'pipeline__baggingregressor__base_estimator__booster': ['gbtree', 'gblinear', 'dart'], 'pipeline__baggingregressor__base_estimator__colsample_bylevel': <scipy.stat...relationchooser__threshold': <scipy.stats._distn_infrastructure.rv_frozen object at 0x7ff08f903e48>},\n",
       "          pre_dispatch='2*n_jobs', random_state=None, refit=True,\n",
       "          return_train_score='warn', scoring='neg_mean_absolute_error',\n",
       "          verbose=0)"
      ]
     },
     "execution_count": 35,
     "metadata": {},
     "output_type": "execute_result"
    }
   ],
   "source": [
    "bag_cv.fit(*data.train_data())"
   ]
  },
  {
   "cell_type": "code",
   "execution_count": 36,
   "metadata": {
    "scrolled": true
   },
   "outputs": [
    {
     "data": {
      "text/plain": [
       "(-26.81892204907551,\n",
       " {'pipeline__baggingregressor__base_estimator__booster': 'gbtree',\n",
       "  'pipeline__baggingregressor__base_estimator__colsample_bylevel': 0.9677867004138727,\n",
       "  'pipeline__baggingregressor__base_estimator__colsample_bytree': 0.9720809236623351,\n",
       "  'pipeline__baggingregressor__base_estimator__learning_rate': 0.0875125680257932,\n",
       "  'pipeline__baggingregressor__base_estimator__max_depth': 3,\n",
       "  'pipeline__baggingregressor__base_estimator__n_estimators': 144,\n",
       "  'pipeline__baggingregressor__base_estimator__reg_alpha': 0.06065310293464457,\n",
       "  'pipeline__baggingregressor__base_estimator__reg_lambda': 1.0185412135983278,\n",
       "  'pipeline__baggingregressor__base_estimator__subsample': 0.8653302483592082,\n",
       "  'pipeline__baggingregressor__n_estimators': 12,\n",
       "  'pipeline__correlationchooser__threshold': 0.15399871061972217})"
      ]
     },
     "execution_count": 36,
     "metadata": {},
     "output_type": "execute_result"
    }
   ],
   "source": [
    "bag_cv.best_score_, bag_cv.best_params_"
   ]
  },
  {
   "cell_type": "markdown",
   "metadata": {},
   "source": [
    "### Feature selection with p-values"
   ]
  },
  {
   "cell_type": "code",
   "execution_count": 58,
   "metadata": {
    "scrolled": true
   },
   "outputs": [
    {
     "data": {
      "text/plain": [
       "[37.806523035106224,\n",
       " 36.913854852575085,\n",
       " 18.99903201849101,\n",
       " 15.504556232321054,\n",
       " 10.226574277517356,\n",
       " 8.99455795602965,\n",
       " 8.508626257686167,\n",
       " 7.371962377430895,\n",
       " 6.027224980570031,\n",
       " 5.72578444301597,\n",
       " 5.541278499735153,\n",
       " 4.995320765789591,\n",
       " 4.815490702259002,\n",
       " 4.462484554650309,\n",
       " 4.326303549644608,\n",
       " 4.292698481233432,\n",
       " 4.123963666517359,\n",
       " 3.4005860838661306,\n",
       " 3.3297152587943457,\n",
       " 3.027407299925849,\n",
       " 2.9720305688362307,\n",
       " 2.782993446208077,\n",
       " 2.683708132851588,\n",
       " 2.668553976079636,\n",
       " 2.495500737634787,\n",
       " 2.404050376278933,\n",
       " 2.2883484828052354,\n",
       " 2.0368050080329456,\n",
       " 2.0313510490243405,\n",
       " 1.9313371257290566,\n",
       " 1.8385206573974324,\n",
       " 1.5200580433456823,\n",
       " 1.3047036039800903,\n",
       " 1.2420240799311337,\n",
       " 1.2188895985051476,\n",
       " 1.067672702764235,\n",
       " 0.9293721727038888,\n",
       " 0.8835297148678186,\n",
       " 0.8318529724419396,\n",
       " 0.8143978018763713,\n",
       " 0.7511401425695406,\n",
       " 0.733518007269416,\n",
       " 0.5932457783681232,\n",
       " 0.5886178214812834,\n",
       " 0.5478916940603383,\n",
       " 0.5244264977281017,\n",
       " 0.5228862429177966,\n",
       " 0.4758548448957521,\n",
       " 0.4404215058154816,\n",
       " 0.4296828103890157,\n",
       " 0.35971972400524715,\n",
       " 0.33932939612512003,\n",
       " 0.31870100348115016,\n",
       " 0.3068037579728163,\n",
       " 0.3021018756380941,\n",
       " 0.2908278108648191,\n",
       " 0.285237227751548,\n",
       " 0.28478090554961055,\n",
       " 0.2764732416567304,\n",
       " 0.26748122486095033,\n",
       " 0.26471560816741263,\n",
       " 0.2642087702608732,\n",
       " 0.25785179169842704,\n",
       " 0.25466467245159985,\n",
       " 0.24099915449135886,\n",
       " 0.23417528441552793,\n",
       " 0.22678073444418795,\n",
       " 0.22666955641223163,\n",
       " 0.21859760407099108,\n",
       " 0.21345907479525375,\n",
       " 0.20718893113498113,\n",
       " 0.2000379417615329,\n",
       " 0.18784705940407995,\n",
       " 0.18469049293068313,\n",
       " 0.18383463119124183,\n",
       " 0.17960509946367897,\n",
       " 0.17536925858798544,\n",
       " 0.1680873929625713,\n",
       " 0.14620501136641065,\n",
       " 0.14566565324025582,\n",
       " 0.13645811895781554,\n",
       " 0.12461456298958476,\n",
       " 0.11784969646743279,\n",
       " 0.11784969646537045,\n",
       " 0.11529723705916545,\n",
       " 0.10959761647922132,\n",
       " 0.10927936348968798,\n",
       " 0.10706197384904191,\n",
       " 0.1062285943873353,\n",
       " 0.10525388002460506,\n",
       " 0.0972384015786118,\n",
       " 0.09060019330622815,\n",
       " 0.07974091474626019,\n",
       " 0.06088344101212136,\n",
       " 0.05912902420124906,\n",
       " 0.04919529293967239,\n",
       " 0.048892199109760906,\n",
       " 0.04816063257012736,\n",
       " 0.047891035335541954,\n",
       " 0.04555605006066193,\n",
       " 0.042010763127551275,\n",
       " 0.0393919708041244,\n",
       " 0.039314784278088655,\n",
       " 0.038345686946154194,\n",
       " 0.03809703476067536,\n",
       " 0.02053180282917747,\n",
       " 0.015822532236293915,\n",
       " 0.013992199591874864,\n",
       " 0.013925618403001208,\n",
       " 0.0031140002820843424,\n",
       " 0.0015838602684838535,\n",
       " 0.0015024147565186035,\n",
       " 0.0013453260343646762,\n",
       " 0.0005345010426890676]"
      ]
     },
     "execution_count": 58,
     "metadata": {},
     "output_type": "execute_result"
    }
   ],
   "source": [
    "from sklearn.feature_selection import SelectFromModel\n",
    "from sklearn.linear_model import Ridge\n",
    "\n",
    "ridge = Ridge()\n",
    "X_train, y_train = data.train_data()\n",
    "ridge.fit(pd.get_dummies(X_train), y_train)\n",
    "\n",
    "sorted(abs(ridge.coef_), reverse=True)"
   ]
  },
  {
   "cell_type": "code",
   "execution_count": 68,
   "metadata": {},
   "outputs": [],
   "source": [
    "bag_model3 = clone(bag_model)\n",
    "bag_model3.pipeline.steps = [bag_model3.pipeline.steps[0]] + [\n",
    "    (\n",
    "        \"selectfrommodel\",\n",
    "        SelectFromModel(Ridge(), threshold=0.5)\n",
    "    )\n",
    "] + bag_model3.pipeline.steps[1:]\n",
    "\n",
    "\n",
    "bag_params3 = {\n",
    "    'pipeline__baggingregressor__n_estimators': stats.randint(5, 15),\n",
    "    'pipeline__baggingregressor__base_estimator__booster': ['gbtree', 'gblinear', 'dart'],\n",
    "    'pipeline__baggingregressor__base_estimator__colsample_bylevel': stats.uniform(0.8, 0.2),\n",
    "    'pipeline__baggingregressor__base_estimator__colsample_bytree': stats.uniform(0.8, 0.2),\n",
    "    'pipeline__baggingregressor__base_estimator__learning_rate': stats.uniform(0.075, 0.05),\n",
    "    'pipeline__baggingregressor__base_estimator__max_depth': stats.randint(2, 10),\n",
    "    'pipeline__baggingregressor__base_estimator__n_estimators': stats.randint(75, 150),\n",
    "    'pipeline__baggingregressor__base_estimator__reg_alpha': stats.uniform(0.0, 0.2),\n",
    "    'pipeline__baggingregressor__base_estimator__reg_lambda': stats.uniform(0.75, 0.5),\n",
    "    'pipeline__baggingregressor__base_estimator__subsample': stats.uniform(0.8, 0.2),\n",
    "    'pipeline__selectfrommodel__threshold': ['median', 'mean', 0.01, 0.05, 0.1],\n",
    "    'pipeline__selectfrommodel__estimator__alpha': stats.uniform(0.75, 0.5),\n",
    "    'pipeline__selectfrommodel__estimator__solver': ['auto', 'svd', 'cholesky', 'lsqr', 'sparse_cg', 'sag', 'saga'],\n",
    "}\n",
    "\n",
    "bag_cv3 = RandomizedSearchCV(bag_model3, bag_params3, scoring=SCORING, n_jobs=-1,\n",
    "                            cv=CV, n_iter=N_ITER)"
   ]
  },
  {
   "cell_type": "code",
   "execution_count": 69,
   "metadata": {
    "scrolled": true
   },
   "outputs": [
    {
     "data": {
      "text/plain": [
       "RandomizedSearchCV(cv=5, error_score='raise-deprecating',\n",
       "          estimator=EnsembleModel(name='EnsembleModel',\n",
       "       pipeline=Pipeline(memory=None,\n",
       "     steps=[('columntransformer', ColumnTransformer(n_jobs=None, remainder='passthrough', sparse_threshold=0.3,\n",
       "         transformer_weights=None,\n",
       "         transformers=[('onehotencoder', OneHotEncoder(categorical_features=None,\n",
       "       categories=[['Adelaide', 'Brisbane', 'Carlton', 'Collingwood', 'Essen...imators=10, n_jobs=None, oob_score=False,\n",
       "         random_state=None, verbose=0, warm_start=False))])),\n",
       "          fit_params=None, iid='warn', n_iter=5, n_jobs=-1,\n",
       "          param_distributions={'pipeline__baggingregressor__n_estimators': <scipy.stats._distn_infrastructure.rv_frozen object at 0x7ff071d147f0>, 'pipeline__baggingregressor__base_estimator__booster': ['gbtree', 'gblinear', 'dart'], 'pipeline__baggingregressor__base_estimator__colsample_bylevel': <scipy.stat...electfrommodel__estimator__solver': ['auto', 'svd', 'cholesky', 'lsqr', 'sparse_cg', 'sag', 'saga']},\n",
       "          pre_dispatch='2*n_jobs', random_state=None, refit=True,\n",
       "          return_train_score='warn', scoring='neg_mean_absolute_error',\n",
       "          verbose=0)"
      ]
     },
     "execution_count": 69,
     "metadata": {},
     "output_type": "execute_result"
    }
   ],
   "source": [
    "bag_cv3.fit(*data.train_data())"
   ]
  },
  {
   "cell_type": "code",
   "execution_count": 71,
   "metadata": {},
   "outputs": [
    {
     "data": {
      "text/plain": [
       "(-26.801925913966823,\n",
       " {'pipeline__baggingregressor__base_estimator__booster': 'gbtree',\n",
       "  'pipeline__baggingregressor__base_estimator__colsample_bylevel': 0.8554762365962266,\n",
       "  'pipeline__baggingregressor__base_estimator__colsample_bytree': 0.8376242319447523,\n",
       "  'pipeline__baggingregressor__base_estimator__learning_rate': 0.09818492024699911,\n",
       "  'pipeline__baggingregressor__base_estimator__max_depth': 3,\n",
       "  'pipeline__baggingregressor__base_estimator__n_estimators': 134,\n",
       "  'pipeline__baggingregressor__base_estimator__reg_alpha': 0.11673122237017441,\n",
       "  'pipeline__baggingregressor__base_estimator__reg_lambda': 0.7888673184824924,\n",
       "  'pipeline__baggingregressor__base_estimator__subsample': 0.9948789615332334,\n",
       "  'pipeline__baggingregressor__n_estimators': 10,\n",
       "  'pipeline__selectfrommodel__estimator__alpha': 0.7661579755548252,\n",
       "  'pipeline__selectfrommodel__estimator__solver': 'auto',\n",
       "  'pipeline__selectfrommodel__threshold': 'median'})"
      ]
     },
     "execution_count": 71,
     "metadata": {},
     "output_type": "execute_result"
    }
   ],
   "source": [
    "bag_cv3.best_score_, bag_cv3.best_params_"
   ]
  },
  {
   "cell_type": "markdown",
   "metadata": {},
   "source": [
    "### Bagging XGB without extra feature selection is better\n",
    "Given that XGB has its own built-in feature selection probably makes adding a feature selection step to the pipeline superfluous."
   ]
  },
  {
   "cell_type": "markdown",
   "metadata": {},
   "source": [
    "## Dimension reduction"
   ]
  },
  {
   "cell_type": "markdown",
   "metadata": {},
   "source": [
    "### PCA"
   ]
  },
  {
   "cell_type": "code",
   "execution_count": 56,
   "metadata": {
    "scrolled": false
   },
   "outputs": [
    {
     "data": {
      "text/plain": [
       "array([0.52156993, 0.92467793, 0.99702563, 0.99914274, 0.9995079 ,\n",
       "       0.99960309, 0.99968507, 0.99976493, 0.99982684, 0.99987036,\n",
       "       0.99989177, 0.99991088, 0.99992471, 0.99993472, 0.99994399,\n",
       "       0.99995147, 0.99995865, 0.99996427, 0.99996964, 0.99997483,\n",
       "       0.99997858, 0.99998206, 0.99998435, 0.99998615, 0.99998769,\n",
       "       0.99998911, 0.99999043, 0.99999172, 0.99999275, 0.99999359,\n",
       "       0.9999944 , 0.99999512, 0.99999573, 0.99999615, 0.99999651,\n",
       "       0.99999684, 0.99999713, 0.9999974 , 0.99999766, 0.9999979 ,\n",
       "       0.99999812, 0.99999833, 0.99999852, 0.99999871, 0.99999886,\n",
       "       0.99999901, 0.99999914, 0.99999925, 0.99999936, 0.99999945,\n",
       "       0.99999952, 0.99999958, 0.99999963, 0.99999967, 0.99999971,\n",
       "       0.99999974, 0.99999976, 0.99999978, 0.99999979, 0.99999981,\n",
       "       0.99999982, 0.99999983, 0.99999984, 0.99999985, 0.99999985,\n",
       "       0.99999986, 0.99999987, 0.99999988, 0.99999988, 0.99999989,\n",
       "       0.9999999 , 0.9999999 , 0.99999991, 0.99999992, 0.99999992,\n",
       "       0.99999993, 0.99999993, 0.99999994, 0.99999995, 0.99999995,\n",
       "       0.99999996, 0.99999996, 0.99999997, 0.99999997, 0.99999998,\n",
       "       0.99999998, 0.99999998, 0.99999998, 0.99999998, 0.99999999,\n",
       "       0.99999999, 0.99999999, 0.99999999, 0.99999999, 0.99999999,\n",
       "       0.99999999, 1.        , 1.        , 1.        , 1.        ,\n",
       "       1.        , 1.        , 1.        , 1.        , 1.        ,\n",
       "       1.        , 1.        , 1.        , 1.        , 1.        ,\n",
       "       1.        , 1.        , 1.        , 1.        ])"
      ]
     },
     "execution_count": 56,
     "metadata": {},
     "output_type": "execute_result"
    }
   ],
   "source": [
    "X_train, _ = data.train_data()\n",
    "\n",
    "pca = PCA()\n",
    "pca.fit_transform(pd.get_dummies(X_train))\n",
    "np.cumsum(pca.explained_variance_ratio_)"
   ]
  },
  {
   "cell_type": "code",
   "execution_count": 57,
   "metadata": {},
   "outputs": [
    {
     "data": {
      "text/plain": [
       "Text(0, 0.5, '% of Variance Explained < = k')"
      ]
     },
     "execution_count": 57,
     "metadata": {},
     "output_type": "execute_result"
    },
    {
     "data": {
      "image/png": "[encoded data removed]",
      "text/plain": [
       "<Figure size 432x288 with 1 Axes>"
      ]
     },
     "metadata": {
      "needs_background": "light"
     },
     "output_type": "display_data"
    }
   ],
   "source": [
    "%matplotlib\n",
    "\n",
    "import matplotlib.pyplot as plt\n",
    "\n",
    "plt.plot(np.cumsum(pca.explained_variance_ratio_))\n",
    "plt.title('Scree Plot')\n",
    "plt.xlabel('Principal Component (k)')\n",
    "plt.ylabel('% of Variance Explained < = k')\n"
   ]
  },
  {
   "cell_type": "markdown",
   "metadata": {},
   "source": [
    "### Top 3 components explain 99% of variance"
   ]
  },
  {
   "cell_type": "code",
   "execution_count": 58,
   "metadata": {},
   "outputs": [],
   "source": [
    "n_features = len(data.train_data()[0].columns)\n",
    "\n",
    "bag_model4 = clone(bag_model)\n",
    "bag_model4.pipeline.steps = [\n",
    "    (\n",
    "        'columntransformer',\n",
    "         ColumnTransformer(\n",
    "            [\n",
    "                (\n",
    "                    \"onehotencoder\",\n",
    "                    OneHotEncoder(\n",
    "                        categories=[TEAM_NAMES, TEAM_NAMES, ROUND_TYPES], sparse=False\n",
    "                    ),\n",
    "                    list(range(3)),\n",
    "                ),\n",
    "                (\n",
    "                    'pca',\n",
    "                    PCA(),\n",
    "                    list(range(3, n_features)),\n",
    "                )\n",
    "            ],\n",
    "            remainder=\"passthrough\",\n",
    "        ),\n",
    "    ),\n",
    "] + bag_model4.pipeline.steps[1:]\n",
    "\n",
    "\n",
    "bag_params4 = {\n",
    "    'pipeline__baggingregressor__n_estimators': stats.randint(5, 15),\n",
    "    'pipeline__baggingregressor__base_estimator__booster': ['gbtree', 'gblinear', 'dart'],\n",
    "    'pipeline__baggingregressor__base_estimator__colsample_bylevel': stats.uniform(0.8, 0.2),\n",
    "    'pipeline__baggingregressor__base_estimator__colsample_bytree': stats.uniform(0.8, 0.2),\n",
    "    'pipeline__baggingregressor__base_estimator__learning_rate': stats.uniform(0.075, 0.05),\n",
    "    'pipeline__baggingregressor__base_estimator__max_depth': stats.randint(2, 10),\n",
    "    'pipeline__baggingregressor__base_estimator__n_estimators': stats.randint(75, 150),\n",
    "    'pipeline__baggingregressor__base_estimator__reg_alpha': stats.uniform(0.0, 0.2),\n",
    "    'pipeline__baggingregressor__base_estimator__reg_lambda': stats.uniform(0.75, 0.5),\n",
    "    'pipeline__baggingregressor__base_estimator__subsample': stats.uniform(0.8, 0.2),\n",
    "    'pipeline__columntransformer__pca__n_components': stats.randint(3, 10),\n",
    "}\n",
    "\n",
    "bag_cv4 = RandomizedSearchCV(bag_model4, bag_params4, scoring=SCORING, n_jobs=-1,\n",
    "                            cv=CV, n_iter=N_ITER)"
   ]
  },
  {
   "cell_type": "code",
   "execution_count": 59,
   "metadata": {
    "scrolled": true
   },
   "outputs": [
    {
     "data": {
      "text/plain": [
       "RandomizedSearchCV(cv=5, error_score='raise-deprecating',\n",
       "          estimator=EnsembleModel(name='EnsembleModel',\n",
       "       pipeline=Pipeline(memory=None,\n",
       "     steps=[('columntransformer', ColumnTransformer(n_jobs=None, remainder='passthrough', sparse_threshold=0.3,\n",
       "         transformer_weights=None,\n",
       "         transformers=[('onehotencoder', OneHotEncoder(categorical_features=None,\n",
       "       categories=[['Adelaide', 'Brisbane', 'Carlton', 'Collingwood', 'Essen...imators=10, n_jobs=None, oob_score=False,\n",
       "         random_state=None, verbose=0, warm_start=False))])),\n",
       "          fit_params=None, iid='warn', n_iter=5, n_jobs=-1,\n",
       "          param_distributions={'pipeline__baggingregressor__n_estimators': <scipy.stats._distn_infrastructure.rv_frozen object at 0x7fae49fe95f8>, 'pipeline__baggingregressor__base_estimator__booster': ['gbtree', 'gblinear', 'dart'], 'pipeline__baggingregressor__base_estimator__colsample_bylevel': <scipy.stat...sformer__pca__n_components': <scipy.stats._distn_infrastructure.rv_frozen object at 0x7fae4a044be0>},\n",
       "          pre_dispatch='2*n_jobs', random_state=None, refit=True,\n",
       "          return_train_score='warn', scoring='neg_mean_absolute_error',\n",
       "          verbose=0)"
      ]
     },
     "execution_count": 59,
     "metadata": {},
     "output_type": "execute_result"
    }
   ],
   "source": [
    "bag_cv4.fit(*data.train_data())"
   ]
  },
  {
   "cell_type": "code",
   "execution_count": 60,
   "metadata": {},
   "outputs": [
    {
     "data": {
      "text/plain": [
       "(-30.323303305148656,\n",
       " {'pipeline__baggingregressor__base_estimator__booster': 'dart',\n",
       "  'pipeline__baggingregressor__base_estimator__colsample_bylevel': 0.9978250638217467,\n",
       "  'pipeline__baggingregressor__base_estimator__colsample_bytree': 0.8530094574818567,\n",
       "  'pipeline__baggingregressor__base_estimator__learning_rate': 0.10860297513308677,\n",
       "  'pipeline__baggingregressor__base_estimator__max_depth': 4,\n",
       "  'pipeline__baggingregressor__base_estimator__n_estimators': 104,\n",
       "  'pipeline__baggingregressor__base_estimator__reg_alpha': 0.022729207739343883,\n",
       "  'pipeline__baggingregressor__base_estimator__reg_lambda': 0.7519591874755467,\n",
       "  'pipeline__baggingregressor__base_estimator__subsample': 0.9998921362119346,\n",
       "  'pipeline__baggingregressor__n_estimators': 5,\n",
       "  'pipeline__columntransformer__pca__n_components': 9})"
      ]
     },
     "execution_count": 60,
     "metadata": {},
     "output_type": "execute_result"
    }
   ],
   "source": [
    "bag_cv4.best_score_, bag_cv4.best_params_"
   ]
  },
  {
   "cell_type": "markdown",
   "metadata": {},
   "source": [
    "### PCA doesn't seem to improve performance\n",
    "An earlier run had 42 for n_components, but still got an error score a full point worse than the model without any feature reduction."
   ]
  },
  {
   "cell_type": "code",
   "execution_count": null,
   "metadata": {},
   "outputs": [],
   "source": []
  }
 ],
 "metadata": {
  "kernelspec": {
   "display_name": "Python 3",
   "language": "python",
   "name": "python3"
  },
  "language_info": {
   "codemirror_mode": {
    "name": "ipython",
    "version": 3
   },
   "file_extension": ".py",
   "mimetype": "text/x-python",
   "name": "python",
   "nbconvert_exporter": "python",
   "pygments_lexer": "ipython3",
   "version": "3.6.7"
  }
 },
 "nbformat": 4,
 "nbformat_minor": 2
}
